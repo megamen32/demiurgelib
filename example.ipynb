{
 "cells": [
  {
   "cell_type": "code",
   "execution_count": null,
   "metadata": {
    "collapsed": true,
    "pycharm": {
     "name": "#%%\n"
    }
   },
   "outputs": [],
   "source": [
    "from sspipe import p, px\n",
    "\n",
    "'1)простой пример, как вывести текст' | p (print)"
   ]
  },
  {
   "cell_type": "markdown",
   "source": [
    "Старый стиль"
   ],
   "metadata": {
    "collapsed": false,
    "pycharm": {
     "name": "#%% md\n"
    }
   }
  },
  {
   "cell_type": "code",
   "execution_count": 1,
   "outputs": [
    {
     "name": "stdout",
     "output_type": "stream",
     "text": [
      "2)НЕ_ПРОСТОЙ_ПРИМЕР,_КАК_ВЫВЕСТИ_ТЕКСТ\n"
     ]
    }
   ],
   "source": [
    "_f1 = lambda x: x.strip().upper()\n",
    "_f2 = lambda x: x.replace(' ','_')\n",
    "_f3 = lambda x: _f2(_f1(x))\n",
    "X = \"2)не_простой_пример, как вывести текст \"\n",
    "X = _f3(X)\n",
    "print(X)"
   ],
   "metadata": {
    "collapsed": false,
    "pycharm": {
     "name": "#%%\n"
    }
   }
  },
  {
   "cell_type": "markdown",
   "source": [
    "Новый стиль"
   ],
   "metadata": {
    "collapsed": false,
    "pycharm": {
     "name": "#%% md\n"
    }
   }
  },
  {
   "cell_type": "code",
   "execution_count": null,
   "outputs": [],
   "source": [
    "##новый стиль\n",
    "\"3)не_простой_пример, как вывести текст \" | px.strip().upper() | px.replace(' ', '_') | p(print)\n",
    "#3НЕ_ПРОСТОЙ_ПРИМЕР,_КАК_ВЫВЕСТИ_ТЕКСТ"
   ],
   "metadata": {
    "collapsed": false,
    "pycharm": {
     "name": "#%%\n"
    }
   }
  }
 ],
 "metadata": {
  "kernelspec": {
   "display_name": "Python 3",
   "language": "python",
   "name": "python3"
  },
  "language_info": {
   "codemirror_mode": {
    "name": "ipython",
    "version": 2
   },
   "file_extension": ".py",
   "mimetype": "text/x-python",
   "name": "python",
   "nbconvert_exporter": "python",
   "pygments_lexer": "ipython2",
   "version": "2.7.6"
  }
 },
 "nbformat": 4,
 "nbformat_minor": 0
}